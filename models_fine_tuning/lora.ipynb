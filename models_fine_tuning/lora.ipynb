{
 "cells": [
  {
   "cell_type": "code",
   "execution_count": null,
   "id": "initial_id",
   "metadata": {
    "collapsed": true
   },
   "outputs": [],
   "source": [
    "%pip install torch==2.1.0 transformers peft trl accelerate bitsandbytes datasets"
   ]
  },
  {
   "cell_type": "code",
   "outputs": [],
   "source": [
    "%pip install huggingface_hub"
   ],
   "metadata": {
    "collapsed": false
   },
   "id": "37f6cef66001aa3b"
  },
  {
   "cell_type": "code",
   "outputs": [],
   "source": [
    "from huggingface_hub import login\n",
    "\n",
    "login(token=\"\")"
   ],
   "metadata": {
    "collapsed": false
   },
   "id": "39e5e2398f978060"
  },
  {
   "cell_type": "code",
   "outputs": [],
   "source": [
    "import os\n",
    "import torch\n",
    "from datasets import load_dataset\n",
    "from transformers import (\n",
    "    AutoModelForCausalLM,\n",
    "    AutoTokenizer,\n",
    "    BitsAndBytesConfig,\n",
    "    TrainingArguments,\n",
    "    pipeline,\n",
    "    logging,\n",
    ")\n",
    "from peft import LoraConfig, PeftModel\n",
    "from trl import SFTTrainer"
   ],
   "metadata": {
    "collapsed": false
   },
   "id": "fbca75786f862a0d"
  },
  {
   "cell_type": "code",
   "outputs": [],
   "source": [
    "model_name = \"mistralai/Mistral-7B-v0.1\"\n",
    "dataset_name = \"lora_dataset.jsonl\"\n",
    "lora_r = 64\n",
    "lora_alpha = 16\n",
    "lora_dropout = 0.1\n",
    "lora_target_modules = [\n",
    "    \"q_proj\",\n",
    "    \"k_proj\",\n",
    "    \"v_proj\",\n",
    "    \"o_proj\",\n",
    "    \"gate_proj\",\n",
    "    \"up_proj\",\n",
    "    \"down_proj\",\n",
    "    \"lm_head\",\n",
    "]"
   ],
   "metadata": {
    "collapsed": false
   },
   "id": "a3b98b0ee82aa490"
  },
  {
   "cell_type": "code",
   "outputs": [],
   "source": [
    "output_dir = \"./results\"\n",
    "num_train_epochs = 3\n",
    "per_device_train_batch_size = 4\n",
    "gradient_accumulation_steps = 4\n",
    "gradient_checkpointing = True\n",
    "optim = \"paged_adamw_8bit\"\n",
    "learning_rate = 3e-4\n",
    "weight_decay = 0.001\n",
    "fp16 = True\n",
    "bf16 = False\n",
    "max_grad_norm = 0.3\n",
    "max_steps = -1\n",
    "warmup_ratio = 0.03\n",
    "lr_scheduler_type = \"cosine\"\n",
    "logging_steps = 25\n",
    "save_steps = 1000"
   ],
   "metadata": {
    "collapsed": false
   },
   "id": "2a97f06ac4807a98"
  },
  {
   "cell_type": "code",
   "outputs": [],
   "source": [
    "max_seq_length = 512\n",
    "packing = False"
   ],
   "metadata": {
    "collapsed": false
   },
   "id": "2bc2b0ccc8fd8edc"
  },
  {
   "cell_type": "code",
   "outputs": [],
   "source": [
    "dataset = load_dataset(\"json\", data_files=dataset_name, split=\"train\")"
   ],
   "metadata": {
    "collapsed": false
   },
   "id": "42cf3f3e942518e4"
  },
  {
   "cell_type": "code",
   "outputs": [],
   "source": [
    "def filter_short_completions(example):\n",
    "    completion = example[\"completion\"].strip()\n",
    "    return len(completion.split()) >= 3\n",
    "\n",
    "dataset = dataset.filter(filter_short_completions)"
   ],
   "metadata": {
    "collapsed": false
   },
   "id": "bcc2a2192287c3a9"
  },
  {
   "cell_type": "code",
   "outputs": [],
   "source": [
    "compute_dtype = torch.float16\n",
    "\n",
    "bitsandbytes_config = BitsAndBytesConfig(\n",
    "    load_in_4bit=True,\n",
    "    bnb_4bit_quant_type=\"nf4\",\n",
    "    bnb_4bit_compute_dtype=compute_dtype,\n",
    "    bnb_4bit_use_double_quant=False,\n",
    ")\n",
    "\n",
    "model = AutoModelForCausalLM.from_pretrained(\n",
    "    model_name,\n",
    "    quantization_config=bitsandbytes_config,\n",
    "    device_map={ \"\": 0 }\n",
    ")\n",
    "model.config.use_cache = False\n",
    "model.config.pretraining_tp = 1"
   ],
   "metadata": {
    "collapsed": false
   },
   "id": "fe0e500143f282c9"
  },
  {
   "cell_type": "code",
   "outputs": [],
   "source": [
    "tokenizer = AutoTokenizer.from_pretrained(model_name, trust_remote_code=True)\n",
    "tokenizer.pad_token = tokenizer.eos_token\n",
    "tokenizer.padding_side = \"right\""
   ],
   "metadata": {
    "collapsed": false
   },
   "id": "b65c97bae8a95567"
  },
  {
   "cell_type": "code",
   "outputs": [],
   "source": [
    "peft_config = LoraConfig(\n",
    "    lora_alpha=lora_alpha,\n",
    "    lora_dropout=lora_dropout,\n",
    "    r=lora_r,\n",
    "    bias=\"none\",\n",
    "    task_type=\"CAUSAL_LM\",\n",
    "    target_modules=lora_target_modules,\n",
    ")\n",
    "training_arguments = TrainingArguments(\n",
    "    output_dir=output_dir,\n",
    "    num_train_epochs=num_train_epochs,\n",
    "    per_device_train_batch_size=per_device_train_batch_size,\n",
    "    gradient_accumulation_steps=gradient_accumulation_steps,\n",
    "    optim=optim,\n",
    "    save_steps=save_steps,\n",
    "    logging_steps=logging_steps,\n",
    "    learning_rate=learning_rate,\n",
    "    weight_decay=weight_decay,\n",
    "    fp16=fp16,\n",
    "    bf16=bf16,\n",
    "    max_grad_norm=max_grad_norm,\n",
    "    max_steps=max_steps,\n",
    "    warmup_ratio=warmup_ratio,\n",
    "    group_by_length=True,\n",
    "    lr_scheduler_type=lr_scheduler_type,\n",
    "    report_to=\"tensorboard\",\n",
    "    gradient_checkpointing=gradient_checkpointing,\n",
    ")"
   ],
   "metadata": {
    "collapsed": false
   },
   "id": "a8f958def15ad620"
  },
  {
   "cell_type": "code",
   "outputs": [],
   "source": [
    "def format_data(example):\n",
    "    return {\"text\": example[\"prompt\"] + example[\"completion\"]}\n",
    "\n",
    "dataset = dataset.map(format_data)"
   ],
   "metadata": {
    "collapsed": false
   },
   "id": "73ebb90cfd918f2b"
  },
  {
   "cell_type": "code",
   "outputs": [],
   "source": [
    "sft_trainer = SFTTrainer(\n",
    "    model=model,\n",
    "    train_dataset=dataset,\n",
    "    peft_config=peft_config,\n",
    "    args=training_arguments,\n",
    ")"
   ],
   "metadata": {
    "collapsed": false
   },
   "id": "2c280f1f3ae3c683"
  },
  {
   "cell_type": "code",
   "outputs": [],
   "source": [
    "sft_trainer.train()"
   ],
   "metadata": {
    "collapsed": false
   },
   "id": "18b7a0fbcb8c2bc0"
  },
  {
   "cell_type": "code",
   "outputs": [],
   "source": [
    "sft_trainer.model.save_pretrained(output_dir)"
   ],
   "metadata": {
    "collapsed": false
   },
   "id": "db880d61de7798f7"
  }
 ],
 "metadata": {
  "kernelspec": {
   "display_name": "Python 3",
   "language": "python",
   "name": "python3"
  },
  "language_info": {
   "codemirror_mode": {
    "name": "ipython",
    "version": 2
   },
   "file_extension": ".py",
   "mimetype": "text/x-python",
   "name": "python",
   "nbconvert_exporter": "python",
   "pygments_lexer": "ipython2",
   "version": "2.7.6"
  }
 },
 "nbformat": 4,
 "nbformat_minor": 5
}
