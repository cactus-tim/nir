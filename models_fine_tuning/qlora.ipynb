{
 "cells": [
  {
   "cell_type": "code",
   "outputs": [],
   "source": [
    "%pip install torch==2.1.0 transformers peft trl accelerate bitsandbytes datasets"
   ],
   "metadata": {
    "collapsed": false
   },
   "id": "360b1c4f56b625c2"
  },
  {
   "cell_type": "code",
   "outputs": [],
   "source": [
    "%pip install huggingface_hub"
   ],
   "metadata": {
    "collapsed": false
   },
   "id": "ba6cfc3f2796f29a"
  },
  {
   "cell_type": "code",
   "outputs": [],
   "source": [
    "from huggingface_hub import login\n",
    "\n",
    "login(token=\"\")"
   ],
   "metadata": {
    "collapsed": false
   },
   "id": "5f022a9aa65318b0"
  },
  {
   "cell_type": "code",
   "execution_count": null,
   "id": "initial_id",
   "metadata": {
    "collapsed": true
   },
   "outputs": [],
   "source": [
    "import torch\n",
    "from transformers import AutoModelForCausalLM, AutoTokenizer, BitsAndBytesConfig, TrainingArguments\n",
    "from peft import LoraConfig, get_peft_model, prepare_model_for_kbit_training\n",
    "from trl import SFTTrainer\n",
    "from datasets import Dataset\n",
    "import json"
   ]
  },
  {
   "cell_type": "code",
   "outputs": [],
   "source": [
    "data_file=\"./data.jsonl\"\n",
    "model_name=\"mistralai/Mistral-7B-v0.1\"\n",
    "output_dir=\"results\""
   ],
   "metadata": {
    "collapsed": false
   },
   "id": "49f70fc6e0501f56"
  },
  {
   "cell_type": "code",
   "outputs": [],
   "source": [
    "def load_data(file_path):\n",
    "    with open(file_path, 'r', encoding='utf-8') as f:\n",
    "        data = [json.loads(line) for line in f]\n",
    "    return Dataset.from_list(data)"
   ],
   "metadata": {
    "collapsed": false
   },
   "id": "4664ac26d9a22997"
  },
  {
   "cell_type": "code",
   "outputs": [],
   "source": [
    "dataset = load_data(data_file)"
   ],
   "metadata": {
    "collapsed": false
   },
   "id": "904b89b3322e78ae"
  },
  {
   "cell_type": "code",
   "outputs": [],
   "source": [
    "bnb_config = BitsAndBytesConfig(\n",
    "    load_in_4bit=True,\n",
    "    bnb_4bit_quant_type=\"nf4\",\n",
    "    bnb_4bit_compute_dtype=torch.bfloat16,\n",
    "    bnb_4bit_use_double_quant=True,\n",
    ")\n",
    "\n",
    "model = AutoModelForCausalLM.from_pretrained(\n",
    "    model_name,\n",
    "    quantization_config=bnb_config,\n",
    "    device_map=\"auto\",\n",
    "    torch_dtype=torch.bfloat16,\n",
    ")\n",
    "model.config.use_cache = False\n",
    "model = prepare_model_for_kbit_training(model)\n",
    "\n",
    "tokenizer = AutoTokenizer.from_pretrained(model_name)\n",
    "tokenizer.pad_token = tokenizer.eos_token\n",
    "tokenizer.padding_side = \"right\""
   ],
   "metadata": {
    "collapsed": false
   },
   "id": "fd400858ef02d430"
  },
  {
   "cell_type": "code",
   "outputs": [],
   "source": [
    "lora_config = LoraConfig(\n",
    "    r=64,\n",
    "    lora_alpha=16,\n",
    "    target_modules=[\"q_proj\", \"k_proj\", \"v_proj\", \"o_proj\", \"gate_proj\", \"up_proj\", \"down_proj\"],\n",
    "    bias=\"none\",\n",
    "    task_type=\"CAUSAL_LM\",\n",
    ")\n",
    "model = get_peft_model(model, lora_config)\n",
    "model.print_trainable_parameters()"
   ],
   "metadata": {
    "collapsed": false
   },
   "id": "f4b406e1b167634a"
  },
  {
   "cell_type": "code",
   "outputs": [],
   "source": [
    "def tokenize_function(examples, tokenizer):\n",
    "    texts = [f\"{p}{c}\" for p, c in zip(examples[\"prompt\"], examples[\"completion\"])]\n",
    "    return tokenizer(texts, truncation=True, padding=\"max_length\", max_length=512)"
   ],
   "metadata": {
    "collapsed": false
   },
   "id": "3bd68a3d881cad40"
  },
  {
   "cell_type": "code",
   "outputs": [],
   "source": [
    "tokenized_dataset = dataset.map(lambda examples: tokenize_function(examples, tokenizer), batched=True, remove_columns=[\"prompt\", \"completion\"])"
   ],
   "metadata": {
    "collapsed": false
   },
   "id": "7d6417f08d6efa1c"
  },
  {
   "cell_type": "code",
   "outputs": [],
   "source": [
    "training_args = TrainingArguments(\n",
    "        output_dir=output_dir,\n",
    "        per_device_train_batch_size=4,\n",
    "        gradient_accumulation_steps=4,\n",
    "        learning_rate=2e-4,\n",
    "        num_train_epochs=3,  \n",
    "        logging_dir=f\"results/logs\",\n",
    "        logging_steps=10,\n",
    "        save_steps=500,\n",
    "        save_total_limit=2,\n",
    "        fp16=False,  \n",
    "        bf16=True,\n",
    "        optim=\"paged_adamw_8bit\",\n",
    "        report_to=\"none\",\n",
    "        remove_unused_columns=False, \n",
    "    )"
   ],
   "metadata": {
    "collapsed": false
   },
   "id": "1827f7a2193711cc"
  },
  {
   "cell_type": "code",
   "outputs": [],
   "source": [
    "trainer = SFTTrainer(\n",
    "    model=model,\n",
    "    train_dataset=tokenized_dataset,\n",
    "    peft_config=model.peft_config[\"default\"], \n",
    "    dataset_text_field=\"text\", \n",
    "    tokenizer=tokenizer,\n",
    "    args=training_args,\n",
    "    max_seq_length=512,\n",
    ")"
   ],
   "metadata": {
    "collapsed": false
   },
   "id": "4888efabdfe30138"
  },
  {
   "cell_type": "code",
   "outputs": [],
   "source": [
    "trainer.train()"
   ],
   "metadata": {
    "collapsed": false
   },
   "id": "acebf289e42d349f"
  },
  {
   "cell_type": "code",
   "outputs": [],
   "source": [
    "trainer.save_model(output_dir)\n",
    "tokenizer.save_pretrained(output_dir)"
   ],
   "metadata": {
    "collapsed": false
   },
   "id": "a6a5801cbfe172c6"
  }
 ],
 "metadata": {
  "kernelspec": {
   "display_name": "Python 3",
   "language": "python",
   "name": "python3"
  },
  "language_info": {
   "codemirror_mode": {
    "name": "ipython",
    "version": 2
   },
   "file_extension": ".py",
   "mimetype": "text/x-python",
   "name": "python",
   "nbconvert_exporter": "python",
   "pygments_lexer": "ipython2",
   "version": "2.7.6"
  }
 },
 "nbformat": 4,
 "nbformat_minor": 5
}
