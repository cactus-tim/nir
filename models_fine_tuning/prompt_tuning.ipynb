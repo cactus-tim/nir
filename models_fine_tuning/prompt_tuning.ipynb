{
 "cells": [
  {
   "cell_type": "code",
   "execution_count": null,
   "id": "initial_id",
   "metadata": {
    "collapsed": true
   },
   "outputs": [],
   "source": [
    "%pip install torch==2.3.0 transformers==4.38.0 tqdm==4.66.4 accelerate"
   ]
  },
  {
   "cell_type": "code",
   "outputs": [],
   "source": [
    "%pip install huggingface_hub"
   ],
   "metadata": {
    "collapsed": false
   },
   "id": "e7077013090117c2"
  },
  {
   "cell_type": "code",
   "outputs": [],
   "source": [
    "from huggingface_hub import login\n",
    "\n",
    "login(token=\"\")"
   ],
   "metadata": {
    "collapsed": false
   },
   "id": "cfa38164cf8fc488"
  },
  {
   "cell_type": "code",
   "outputs": [],
   "source": [
    "import json\n",
    "from torch.utils.data import Dataset, DataLoader\n",
    "from transformers import AutoTokenizer, DataCollatorWithPadding\n",
    "from torch.cuda.amp import autocast, GradScaler\n",
    "import torch\n",
    "import torch.nn as nn\n",
    "from transformers import AutoModelForCausalLM, AutoTokenizer\n",
    "import os\n",
    "from tqdm import tqdm\n",
    "import accelerate"
   ],
   "metadata": {
    "collapsed": false
   },
   "id": "47f6a379a31cf3e8"
  },
  {
   "cell_type": "code",
   "outputs": [],
   "source": [
    "class QwenDataset(Dataset):\n",
    "    def __init__(self, data_path, tokenizer, max_length=256):\n",
    "        if tokenizer.pad_token_id is None:\n",
    "            tokenizer.add_special_tokens({'pad_token': tokenizer.eos_token})\n",
    "        self.tokenizer = tokenizer\n",
    "\n",
    "        self.data = self.load_data(data_path)\n",
    "        self.max_length = max_length\n",
    "\n",
    "    def load_data(self, data_path):\n",
    "        with open(data_path, 'r', encoding='utf-8') as f:\n",
    "            return [json.loads(line) for line in f]\n",
    "\n",
    "    def __len__(self):\n",
    "        return len(self.data)\n",
    "\n",
    "    def __getitem__(self, idx):\n",
    "        item = self.data[idx]\n",
    "        input_text = item['input_text']\n",
    "        output_text = item['output_text']\n",
    "\n",
    "        tokenized_input = self.tokenizer(\n",
    "            input_text,\n",
    "            max_length=self.max_length,\n",
    "            padding='max_length',\n",
    "            truncation=True,\n",
    "            return_tensors='pt'\n",
    "        )\n",
    "        tokenized_output = self.tokenizer(\n",
    "            output_text,\n",
    "            max_length=self.max_length,\n",
    "            padding='max_length',\n",
    "            truncation=True,\n",
    "            return_tensors='pt'\n",
    "        )\n",
    "\n",
    "        input_ids = tokenized_input['input_ids'].squeeze(0)\n",
    "        attention_mask = tokenized_input['attention_mask'].squeeze(0)\n",
    "        labels = tokenized_output['input_ids'].squeeze(0)\n",
    "\n",
    "        labels = labels.masked_fill(labels == self.tokenizer.pad_token_id, -100)\n",
    "\n",
    "        return {\n",
    "            'input_ids': input_ids,\n",
    "            'attention_mask': attention_mask,\n",
    "            'labels': labels\n",
    "        }"
   ],
   "metadata": {
    "collapsed": false
   },
   "id": "af7d947845a140f"
  },
  {
   "cell_type": "code",
   "outputs": [],
   "source": [
    "def create_dataloaders(data_path, tokenizer_name, batch_size, max_length=512):\n",
    "    tokenizer = AutoTokenizer.from_pretrained(tokenizer_name)\n",
    "    dataset = QwenDataset(data_path, tokenizer, max_length)\n",
    "    collator = DataCollatorWithPadding(tokenizer=tokenizer, return_tensors=\"pt\")\n",
    "    dataloader = DataLoader(\n",
    "        dataset,\n",
    "        batch_size=batch_size,\n",
    "        shuffle=True,\n",
    "        collate_fn=collator,\n",
    "        pin_memory=True\n",
    "    )\n",
    "    return dataloader, tokenizer"
   ],
   "metadata": {
    "collapsed": false
   },
   "id": "f4ff87dae9f53e0f"
  },
  {
   "cell_type": "code",
   "outputs": [],
   "source": [
    "class PromptTuning(nn.Module):\n",
    "    def __init__(self, model_name, num_virtual_tokens=10, prompt_embedding_init=None):\n",
    "        super().__init__()\n",
    "        self.model = AutoModelForCausalLM.from_pretrained(\n",
    "            model_name,\n",
    "            torch_dtype=torch.bfloat16,\n",
    "            device_map=None\n",
    "        )\n",
    "        self.model.gradient_checkpointing_enable()\n",
    "\n",
    "        self.tokenizer = AutoTokenizer.from_pretrained(model_name)\n",
    "\n",
    "        self.num_virtual_tokens = num_virtual_tokens\n",
    "        self.prompt_embeddings = nn.Embedding(num_virtual_tokens, self.model.config.hidden_size)\n",
    "\n",
    "        if prompt_embedding_init is not None:\n",
    "            self.prompt_embeddings.weight = nn.Parameter(prompt_embedding_init)\n",
    "\n",
    "    def forward(self, input_ids, attention_mask, labels=None):\n",
    "        batch_size = input_ids.shape[0]\n",
    "        inputs_embeds = self.model.get_input_embeddings()(input_ids)\n",
    "\n",
    "        prompt_embeds = self.prompt_embeddings(torch.arange(self.num_virtual_tokens, device=input_ids.device))\n",
    "        prompt_embeds = prompt_embeds.unsqueeze(0).expand(batch_size, -1, -1)\n",
    "\n",
    "        inputs_embeds = torch.cat([prompt_embeds, inputs_embeds], dim=1)\n",
    "\n",
    "        prompt_attention_mask = torch.ones(batch_size, self.num_virtual_tokens, dtype=torch.long, device=input_ids.device)\n",
    "        attention_mask = torch.cat([prompt_attention_mask, attention_mask], dim=1)\n",
    "\n",
    "        if labels is not None:\n",
    "            prompt_labels = torch.full((batch_size, self.num_virtual_tokens), -100, dtype=torch.long, device=input_ids.device)\n",
    "            labels = torch.cat([prompt_labels, labels], dim=1)\n",
    "\n",
    "        outputs = self.model(inputs_embeds=inputs_embeds, attention_mask=attention_mask, labels=labels)\n",
    "        return outputs\n",
    "\n",
    "    def save_prompt_embeddings(self, path):\n",
    "        torch.save(self.prompt_embeddings.state_dict(), path)\n",
    "\n",
    "    def load_prompt_embeddings(self, path):\n",
    "        self.prompt_embeddings.load_state_dict(torch.load(path))"
   ],
   "metadata": {
    "collapsed": false
   },
   "id": "9c305215c32a88c1"
  },
  {
   "cell_type": "code",
   "outputs": [],
   "source": [
    "def train(model_name, data_path, num_virtual_tokens, lr, batch_size, num_epochs, output_dir, accumulation_steps=4):\n",
    "    dataloader, tokenizer = create_dataloaders(data_path, model_name, batch_size)\n",
    "\n",
    "    model = PromptTuning(model_name, num_virtual_tokens=num_virtual_tokens)\n",
    "    for name, param in model.named_parameters():\n",
    "        if \"prompt_embeddings\" not in name:\n",
    "            param.requires_grad = False\n",
    "\n",
    "    optimizer = torch.optim.AdamW(model.prompt_embeddings.parameters(), lr=lr)\n",
    "    scaler = GradScaler()\n",
    "\n",
    "    device = torch.device(\"cuda\" if torch.cuda.is_available() else \"cpu\")\n",
    "    model.to(device)\n",
    "\n",
    "    model.train()\n",
    "    for epoch in range(1, num_epochs + 1):\n",
    "        total_loss = 0.0\n",
    "        optimizer.zero_grad()\n",
    "        for step, batch in enumerate(tqdm(dataloader, desc=f\"Epoch {epoch}/{num_epochs}\", leave=False), 1):\n",
    "            input_ids = batch[\"input_ids\"].to(device)\n",
    "            attention_mask = batch[\"attention_mask\"].to(device)\n",
    "            labels = batch[\"labels\"].to(device)\n",
    "\n",
    "            with autocast(dtype=torch.bfloat16):\n",
    "                outputs = model(input_ids=input_ids, attention_mask=attention_mask, labels=labels)\n",
    "                loss = outputs.loss / accumulation_steps\n",
    "\n",
    "            scaler.scale(loss).backward()\n",
    "\n",
    "            if step % accumulation_steps == 0:\n",
    "                scaler.step(optimizer)\n",
    "                scaler.update()\n",
    "                optimizer.zero_grad()\n",
    "\n",
    "            total_loss += loss.item() * accumulation_steps\n",
    "\n",
    "        avg_loss = total_loss / len(dataloader)\n",
    "        print(f\"Epoch {epoch} completed — Avg Loss: {avg_loss:.4f}\")\n",
    "        torch.cuda.empty_cache()\n",
    "\n",
    "    save_path = os.path.join(output_dir, \"prompt_embeddings.pt\")\n",
    "    model.save_prompt_embeddings(save_path)\n",
    "    print(f\"Prompt embeddings saved to {save_path}\")"
   ],
   "metadata": {
    "collapsed": false
   },
   "id": "1117189e9be0ea7"
  },
  {
   "cell_type": "code",
   "outputs": [],
   "source": [
    "model_name = \"mistralai/Mistral-7B-v0.1\"\n",
    "data_path = \"./prompt_tuning_dataset.jsonl\"\n",
    "num_virtual_tokens = 10\n",
    "lr = 1e-3\n",
    "batch_size = 4\n",
    "num_epochs = 3\n",
    "output_dir = \"./output\"\n",
    "\n",
    "os.makedirs(output_dir, exist_ok=True)\n",
    "\n",
    "train(model_name, data_path, num_virtual_tokens, lr, batch_size, num_epochs, output_dir)"
   ],
   "metadata": {
    "collapsed": false
   },
   "id": "a01647a83575dfb6"
  }
 ],
 "metadata": {
  "kernelspec": {
   "display_name": "Python 3",
   "language": "python",
   "name": "python3"
  },
  "language_info": {
   "codemirror_mode": {
    "name": "ipython",
    "version": 2
   },
   "file_extension": ".py",
   "mimetype": "text/x-python",
   "name": "python",
   "nbconvert_exporter": "python",
   "pygments_lexer": "ipython2",
   "version": "2.7.6"
  }
 },
 "nbformat": 4,
 "nbformat_minor": 5
}
